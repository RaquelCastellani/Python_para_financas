{
 "cells": [
  {
   "cell_type": "markdown",
   "id": "d57390b5",
   "metadata": {},
   "source": [
    "# Taxa de retorno ações\n",
    "Retorno simples = preço final - preco inicial/ preco inicial * 100 "
   ]
  },
  {
   "cell_type": "markdown",
   "id": "fb4fac06",
   "metadata": {},
   "source": [
    "## Importação de bibliotecas e banco de dados"
   ]
  },
  {
   "cell_type": "code",
   "execution_count": 1,
   "id": "0ecb3e2b",
   "metadata": {
    "ExecuteTime": {
     "end_time": "2023-10-19T22:27:44.638475Z",
     "start_time": "2023-10-19T22:27:43.239381Z"
    }
   },
   "outputs": [],
   "source": [
    "import pandas as pd\n",
    "import numpy as np\n",
    "import plotly.express as px"
   ]
  },
  {
   "cell_type": "code",
   "execution_count": 3,
   "id": "468eefd4",
   "metadata": {
    "ExecuteTime": {
     "end_time": "2023-10-19T22:29:35.130019Z",
     "start_time": "2023-10-19T22:29:35.105731Z"
    }
   },
   "outputs": [],
   "source": [
    "dataset = pd.read_csv('acoes.csv')"
   ]
  },
  {
   "cell_type": "code",
   "execution_count": 4,
   "id": "1c37f7e3",
   "metadata": {
    "ExecuteTime": {
     "end_time": "2023-10-19T22:29:42.053182Z",
     "start_time": "2023-10-19T22:29:42.022508Z"
    }
   },
   "outputs": [
    {
     "data": {
      "text/html": [
       "<div>\n",
       "<style scoped>\n",
       "    .dataframe tbody tr th:only-of-type {\n",
       "        vertical-align: middle;\n",
       "    }\n",
       "\n",
       "    .dataframe tbody tr th {\n",
       "        vertical-align: top;\n",
       "    }\n",
       "\n",
       "    .dataframe thead th {\n",
       "        text-align: right;\n",
       "    }\n",
       "</style>\n",
       "<table border=\"1\" class=\"dataframe\">\n",
       "  <thead>\n",
       "    <tr style=\"text-align: right;\">\n",
       "      <th></th>\n",
       "      <th>Date</th>\n",
       "      <th>GOL</th>\n",
       "      <th>CVC</th>\n",
       "      <th>WEGE</th>\n",
       "      <th>MGLU</th>\n",
       "      <th>TOTS</th>\n",
       "      <th>BOVA</th>\n",
       "    </tr>\n",
       "  </thead>\n",
       "  <tbody>\n",
       "    <tr>\n",
       "      <th>0</th>\n",
       "      <td>2015-01-02</td>\n",
       "      <td>14.99</td>\n",
       "      <td>15.20</td>\n",
       "      <td>5.923076</td>\n",
       "      <td>0.232812</td>\n",
       "      <td>11.910702</td>\n",
       "      <td>47.259998</td>\n",
       "    </tr>\n",
       "    <tr>\n",
       "      <th>1</th>\n",
       "      <td>2015-01-05</td>\n",
       "      <td>14.85</td>\n",
       "      <td>15.00</td>\n",
       "      <td>5.963461</td>\n",
       "      <td>0.237187</td>\n",
       "      <td>11.544731</td>\n",
       "      <td>46.320000</td>\n",
       "    </tr>\n",
       "    <tr>\n",
       "      <th>2</th>\n",
       "      <td>2015-01-06</td>\n",
       "      <td>15.21</td>\n",
       "      <td>14.80</td>\n",
       "      <td>5.875000</td>\n",
       "      <td>0.234062</td>\n",
       "      <td>10.822770</td>\n",
       "      <td>46.580002</td>\n",
       "    </tr>\n",
       "    <tr>\n",
       "      <th>3</th>\n",
       "      <td>2015-01-07</td>\n",
       "      <td>14.55</td>\n",
       "      <td>14.67</td>\n",
       "      <td>5.807692</td>\n",
       "      <td>0.241875</td>\n",
       "      <td>10.746248</td>\n",
       "      <td>48.150002</td>\n",
       "    </tr>\n",
       "    <tr>\n",
       "      <th>4</th>\n",
       "      <td>2015-01-08</td>\n",
       "      <td>14.27</td>\n",
       "      <td>14.15</td>\n",
       "      <td>5.905769</td>\n",
       "      <td>0.240000</td>\n",
       "      <td>10.995774</td>\n",
       "      <td>48.509998</td>\n",
       "    </tr>\n",
       "    <tr>\n",
       "      <th>...</th>\n",
       "      <td>...</td>\n",
       "      <td>...</td>\n",
       "      <td>...</td>\n",
       "      <td>...</td>\n",
       "      <td>...</td>\n",
       "      <td>...</td>\n",
       "      <td>...</td>\n",
       "    </tr>\n",
       "    <tr>\n",
       "      <th>2157</th>\n",
       "      <td>2023-10-13</td>\n",
       "      <td>7.02</td>\n",
       "      <td>2.92</td>\n",
       "      <td>34.540001</td>\n",
       "      <td>1.820000</td>\n",
       "      <td>26.760000</td>\n",
       "      <td>112.059998</td>\n",
       "    </tr>\n",
       "    <tr>\n",
       "      <th>2158</th>\n",
       "      <td>2023-10-16</td>\n",
       "      <td>7.48</td>\n",
       "      <td>2.92</td>\n",
       "      <td>34.650002</td>\n",
       "      <td>1.790000</td>\n",
       "      <td>26.879999</td>\n",
       "      <td>112.940002</td>\n",
       "    </tr>\n",
       "    <tr>\n",
       "      <th>2159</th>\n",
       "      <td>2023-10-17</td>\n",
       "      <td>7.80</td>\n",
       "      <td>2.80</td>\n",
       "      <td>34.279999</td>\n",
       "      <td>1.690000</td>\n",
       "      <td>26.719999</td>\n",
       "      <td>112.339996</td>\n",
       "    </tr>\n",
       "    <tr>\n",
       "      <th>2160</th>\n",
       "      <td>2023-10-18</td>\n",
       "      <td>7.24</td>\n",
       "      <td>2.71</td>\n",
       "      <td>34.290001</td>\n",
       "      <td>1.730000</td>\n",
       "      <td>26.059999</td>\n",
       "      <td>110.370003</td>\n",
       "    </tr>\n",
       "    <tr>\n",
       "      <th>2161</th>\n",
       "      <td>2023-10-19</td>\n",
       "      <td>6.88</td>\n",
       "      <td>2.56</td>\n",
       "      <td>33.939999</td>\n",
       "      <td>1.610000</td>\n",
       "      <td>26.139999</td>\n",
       "      <td>110.599998</td>\n",
       "    </tr>\n",
       "  </tbody>\n",
       "</table>\n",
       "<p>2162 rows × 7 columns</p>\n",
       "</div>"
      ],
      "text/plain": [
       "            Date    GOL    CVC       WEGE      MGLU       TOTS        BOVA\n",
       "0     2015-01-02  14.99  15.20   5.923076  0.232812  11.910702   47.259998\n",
       "1     2015-01-05  14.85  15.00   5.963461  0.237187  11.544731   46.320000\n",
       "2     2015-01-06  15.21  14.80   5.875000  0.234062  10.822770   46.580002\n",
       "3     2015-01-07  14.55  14.67   5.807692  0.241875  10.746248   48.150002\n",
       "4     2015-01-08  14.27  14.15   5.905769  0.240000  10.995774   48.509998\n",
       "...          ...    ...    ...        ...       ...        ...         ...\n",
       "2157  2023-10-13   7.02   2.92  34.540001  1.820000  26.760000  112.059998\n",
       "2158  2023-10-16   7.48   2.92  34.650002  1.790000  26.879999  112.940002\n",
       "2159  2023-10-17   7.80   2.80  34.279999  1.690000  26.719999  112.339996\n",
       "2160  2023-10-18   7.24   2.71  34.290001  1.730000  26.059999  110.370003\n",
       "2161  2023-10-19   6.88   2.56  33.939999  1.610000  26.139999  110.599998\n",
       "\n",
       "[2162 rows x 7 columns]"
      ]
     },
     "execution_count": 4,
     "metadata": {},
     "output_type": "execute_result"
    }
   ],
   "source": [
    "dataset"
   ]
  },
  {
   "cell_type": "markdown",
   "id": "e7d6d1a7",
   "metadata": {},
   "source": [
    "## Taxa de retorno simples "
   ]
  },
  {
   "cell_type": "code",
   "execution_count": 5,
   "id": "e2e1ce9d",
   "metadata": {
    "ExecuteTime": {
     "end_time": "2023-10-19T22:32:07.378525Z",
     "start_time": "2023-10-19T22:32:07.359817Z"
    }
   },
   "outputs": [
    {
     "data": {
      "text/plain": [
       "2162"
      ]
     },
     "execution_count": 5,
     "metadata": {},
     "output_type": "execute_result"
    }
   ],
   "source": [
    "len(dataset)"
   ]
  },
  {
   "cell_type": "code",
   "execution_count": null,
   "id": "dadb8e6a",
   "metadata": {},
   "outputs": [],
   "source": []
  }
 ],
 "metadata": {
  "kernelspec": {
   "display_name": "Python 3 (ipykernel)",
   "language": "python",
   "name": "python3"
  },
  "language_info": {
   "codemirror_mode": {
    "name": "ipython",
    "version": 3
   },
   "file_extension": ".py",
   "mimetype": "text/x-python",
   "name": "python",
   "nbconvert_exporter": "python",
   "pygments_lexer": "ipython3",
   "version": "3.9.7"
  },
  "toc": {
   "base_numbering": 1,
   "nav_menu": {},
   "number_sections": true,
   "sideBar": true,
   "skip_h1_title": false,
   "title_cell": "Table of Contents",
   "title_sidebar": "Contents",
   "toc_cell": false,
   "toc_position": {},
   "toc_section_display": true,
   "toc_window_display": false
  }
 },
 "nbformat": 4,
 "nbformat_minor": 5
}
