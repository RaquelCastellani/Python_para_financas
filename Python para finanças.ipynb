{
 "cells": [
  {
   "cell_type": "markdown",
   "id": "baf1b626",
   "metadata": {},
   "source": [
    "# Python para finanças"
   ]
  },
  {
   "cell_type": "markdown",
   "id": "95fe8280",
   "metadata": {},
   "source": [
    "## Importaçao de bibliotecas"
   ]
  },
  {
   "cell_type": "code",
   "execution_count": null,
   "id": "88e123ee",
   "metadata": {
    "ExecuteTime": {
     "end_time": "2023-10-04T21:45:01.622184Z",
     "start_time": "2023-10-04T21:45:00.969681Z"
    }
   },
   "outputs": [],
   "source": [
    "import pandas as pd \n",
    "from pandas_datareader import data\n",
    "import numpy as np \n",
    "import seaborn as sns \n",
    "import matplotlib.pyplot as plt \n",
    "import plotly.express as px \n",
    "import yfinance as yf"
   ]
  },
  {
   "cell_type": "markdown",
   "id": "d92c5aae",
   "metadata": {},
   "source": [
    "## Base de dados com uma ação "
   ]
  },
  {
   "cell_type": "code",
   "execution_count": 10,
   "id": "9f3d12a9",
   "metadata": {
    "ExecuteTime": {
     "end_time": "2023-10-04T21:45:36.631824Z",
     "start_time": "2023-10-04T21:45:35.665687Z"
    }
   },
   "outputs": [
    {
     "name": "stdout",
     "output_type": "stream",
     "text": [
      "[*********************100%%**********************]  1 of 1 completed\n"
     ]
    }
   ],
   "source": [
    "gol_df = yf.download(\"GOLL4.SA\", start='2015-01-01') #buscando as ações da gol de 2015 até atualmente"
   ]
  },
  {
   "cell_type": "code",
   "execution_count": 14,
   "id": "756e9cf0",
   "metadata": {
    "ExecuteTime": {
     "end_time": "2023-10-04T22:14:58.478729Z",
     "start_time": "2023-10-04T22:14:58.463198Z"
    }
   },
   "outputs": [
    {
     "data": {
      "text/html": [
       "<div>\n",
       "<style scoped>\n",
       "    .dataframe tbody tr th:only-of-type {\n",
       "        vertical-align: middle;\n",
       "    }\n",
       "\n",
       "    .dataframe tbody tr th {\n",
       "        vertical-align: top;\n",
       "    }\n",
       "\n",
       "    .dataframe thead th {\n",
       "        text-align: right;\n",
       "    }\n",
       "</style>\n",
       "<table border=\"1\" class=\"dataframe\">\n",
       "  <thead>\n",
       "    <tr style=\"text-align: right;\">\n",
       "      <th></th>\n",
       "      <th>Open</th>\n",
       "      <th>High</th>\n",
       "      <th>Low</th>\n",
       "      <th>Close</th>\n",
       "      <th>Adj Close</th>\n",
       "      <th>Volume</th>\n",
       "    </tr>\n",
       "    <tr>\n",
       "      <th>Date</th>\n",
       "      <th></th>\n",
       "      <th></th>\n",
       "      <th></th>\n",
       "      <th></th>\n",
       "      <th></th>\n",
       "      <th></th>\n",
       "    </tr>\n",
       "  </thead>\n",
       "  <tbody>\n",
       "    <tr>\n",
       "      <th>2015-01-02</th>\n",
       "      <td>14.97</td>\n",
       "      <td>15.20</td>\n",
       "      <td>14.61</td>\n",
       "      <td>14.99</td>\n",
       "      <td>14.99</td>\n",
       "      <td>901900</td>\n",
       "    </tr>\n",
       "    <tr>\n",
       "      <th>2015-01-05</th>\n",
       "      <td>14.90</td>\n",
       "      <td>15.01</td>\n",
       "      <td>14.41</td>\n",
       "      <td>14.85</td>\n",
       "      <td>14.85</td>\n",
       "      <td>1272500</td>\n",
       "    </tr>\n",
       "    <tr>\n",
       "      <th>2015-01-06</th>\n",
       "      <td>14.75</td>\n",
       "      <td>15.21</td>\n",
       "      <td>14.65</td>\n",
       "      <td>15.21</td>\n",
       "      <td>15.21</td>\n",
       "      <td>2183500</td>\n",
       "    </tr>\n",
       "    <tr>\n",
       "      <th>2015-01-07</th>\n",
       "      <td>15.15</td>\n",
       "      <td>15.33</td>\n",
       "      <td>14.55</td>\n",
       "      <td>14.55</td>\n",
       "      <td>14.55</td>\n",
       "      <td>1846900</td>\n",
       "    </tr>\n",
       "    <tr>\n",
       "      <th>2015-01-08</th>\n",
       "      <td>14.41</td>\n",
       "      <td>14.65</td>\n",
       "      <td>14.20</td>\n",
       "      <td>14.27</td>\n",
       "      <td>14.27</td>\n",
       "      <td>1569500</td>\n",
       "    </tr>\n",
       "  </tbody>\n",
       "</table>\n",
       "</div>"
      ],
      "text/plain": [
       "             Open   High    Low  Close  Adj Close   Volume\n",
       "Date                                                      \n",
       "2015-01-02  14.97  15.20  14.61  14.99      14.99   901900\n",
       "2015-01-05  14.90  15.01  14.41  14.85      14.85  1272500\n",
       "2015-01-06  14.75  15.21  14.65  15.21      15.21  2183500\n",
       "2015-01-07  15.15  15.33  14.55  14.55      14.55  1846900\n",
       "2015-01-08  14.41  14.65  14.20  14.27      14.27  1569500"
      ]
     },
     "execution_count": 14,
     "metadata": {},
     "output_type": "execute_result"
    }
   ],
   "source": [
    "gol_df.head() #cinco primeiros dados"
   ]
  },
  {
   "cell_type": "code",
   "execution_count": 15,
   "id": "3f6b26b0",
   "metadata": {
    "ExecuteTime": {
     "end_time": "2023-10-04T22:15:42.674616Z",
     "start_time": "2023-10-04T22:15:42.651928Z"
    }
   },
   "outputs": [
    {
     "data": {
      "text/html": [
       "<div>\n",
       "<style scoped>\n",
       "    .dataframe tbody tr th:only-of-type {\n",
       "        vertical-align: middle;\n",
       "    }\n",
       "\n",
       "    .dataframe tbody tr th {\n",
       "        vertical-align: top;\n",
       "    }\n",
       "\n",
       "    .dataframe thead th {\n",
       "        text-align: right;\n",
       "    }\n",
       "</style>\n",
       "<table border=\"1\" class=\"dataframe\">\n",
       "  <thead>\n",
       "    <tr style=\"text-align: right;\">\n",
       "      <th></th>\n",
       "      <th>Open</th>\n",
       "      <th>High</th>\n",
       "      <th>Low</th>\n",
       "      <th>Close</th>\n",
       "      <th>Adj Close</th>\n",
       "      <th>Volume</th>\n",
       "    </tr>\n",
       "    <tr>\n",
       "      <th>Date</th>\n",
       "      <th></th>\n",
       "      <th></th>\n",
       "      <th></th>\n",
       "      <th></th>\n",
       "      <th></th>\n",
       "      <th></th>\n",
       "    </tr>\n",
       "  </thead>\n",
       "  <tbody>\n",
       "    <tr>\n",
       "      <th>2023-09-28</th>\n",
       "      <td>6.52</td>\n",
       "      <td>6.56</td>\n",
       "      <td>6.36</td>\n",
       "      <td>6.55</td>\n",
       "      <td>6.55</td>\n",
       "      <td>7850700</td>\n",
       "    </tr>\n",
       "    <tr>\n",
       "      <th>2023-09-29</th>\n",
       "      <td>6.64</td>\n",
       "      <td>6.73</td>\n",
       "      <td>6.51</td>\n",
       "      <td>6.61</td>\n",
       "      <td>6.61</td>\n",
       "      <td>7403400</td>\n",
       "    </tr>\n",
       "    <tr>\n",
       "      <th>2023-10-02</th>\n",
       "      <td>6.64</td>\n",
       "      <td>6.65</td>\n",
       "      <td>6.32</td>\n",
       "      <td>6.35</td>\n",
       "      <td>6.35</td>\n",
       "      <td>6535100</td>\n",
       "    </tr>\n",
       "    <tr>\n",
       "      <th>2023-10-03</th>\n",
       "      <td>6.29</td>\n",
       "      <td>6.39</td>\n",
       "      <td>5.98</td>\n",
       "      <td>6.02</td>\n",
       "      <td>6.02</td>\n",
       "      <td>10599400</td>\n",
       "    </tr>\n",
       "    <tr>\n",
       "      <th>2023-10-04</th>\n",
       "      <td>6.11</td>\n",
       "      <td>6.39</td>\n",
       "      <td>6.10</td>\n",
       "      <td>6.24</td>\n",
       "      <td>6.24</td>\n",
       "      <td>10773400</td>\n",
       "    </tr>\n",
       "  </tbody>\n",
       "</table>\n",
       "</div>"
      ],
      "text/plain": [
       "            Open  High   Low  Close  Adj Close    Volume\n",
       "Date                                                    \n",
       "2023-09-28  6.52  6.56  6.36   6.55       6.55   7850700\n",
       "2023-09-29  6.64  6.73  6.51   6.61       6.61   7403400\n",
       "2023-10-02  6.64  6.65  6.32   6.35       6.35   6535100\n",
       "2023-10-03  6.29  6.39  5.98   6.02       6.02  10599400\n",
       "2023-10-04  6.11  6.39  6.10   6.24       6.24  10773400"
      ]
     },
     "execution_count": 15,
     "metadata": {},
     "output_type": "execute_result"
    }
   ],
   "source": [
    "gol_df.tail() #cinco últimos dados "
   ]
  },
  {
   "cell_type": "code",
   "execution_count": 12,
   "id": "2c90bb92",
   "metadata": {
    "ExecuteTime": {
     "end_time": "2023-10-04T22:11:06.547189Z",
     "start_time": "2023-10-04T22:11:06.501761Z"
    }
   },
   "outputs": [
    {
     "name": "stdout",
     "output_type": "stream",
     "text": [
      "<class 'pandas.core.frame.DataFrame'>\n",
      "DatetimeIndex: 2179 entries, 2015-01-02 to 2023-10-04\n",
      "Data columns (total 6 columns):\n",
      " #   Column     Non-Null Count  Dtype  \n",
      "---  ------     --------------  -----  \n",
      " 0   Open       2179 non-null   float64\n",
      " 1   High       2179 non-null   float64\n",
      " 2   Low        2179 non-null   float64\n",
      " 3   Close      2179 non-null   float64\n",
      " 4   Adj Close  2179 non-null   float64\n",
      " 5   Volume     2179 non-null   int64  \n",
      "dtypes: float64(5), int64(1)\n",
      "memory usage: 119.2 KB\n"
     ]
    }
   ],
   "source": [
    "gol_df.info() #informações dos tipos de dados e quantidade"
   ]
  },
  {
   "cell_type": "code",
   "execution_count": 13,
   "id": "ccac5985",
   "metadata": {
    "ExecuteTime": {
     "end_time": "2023-10-04T22:12:38.712910Z",
     "start_time": "2023-10-04T22:12:38.654662Z"
    }
   },
   "outputs": [
    {
     "data": {
      "text/html": [
       "<div>\n",
       "<style scoped>\n",
       "    .dataframe tbody tr th:only-of-type {\n",
       "        vertical-align: middle;\n",
       "    }\n",
       "\n",
       "    .dataframe tbody tr th {\n",
       "        vertical-align: top;\n",
       "    }\n",
       "\n",
       "    .dataframe thead th {\n",
       "        text-align: right;\n",
       "    }\n",
       "</style>\n",
       "<table border=\"1\" class=\"dataframe\">\n",
       "  <thead>\n",
       "    <tr style=\"text-align: right;\">\n",
       "      <th></th>\n",
       "      <th>Open</th>\n",
       "      <th>High</th>\n",
       "      <th>Low</th>\n",
       "      <th>Close</th>\n",
       "      <th>Adj Close</th>\n",
       "      <th>Volume</th>\n",
       "    </tr>\n",
       "  </thead>\n",
       "  <tbody>\n",
       "    <tr>\n",
       "      <th>count</th>\n",
       "      <td>2179.000000</td>\n",
       "      <td>2179.000000</td>\n",
       "      <td>2179.000000</td>\n",
       "      <td>2179.000000</td>\n",
       "      <td>2179.000000</td>\n",
       "      <td>2.179000e+03</td>\n",
       "    </tr>\n",
       "    <tr>\n",
       "      <th>mean</th>\n",
       "      <td>14.707141</td>\n",
       "      <td>15.071533</td>\n",
       "      <td>14.322386</td>\n",
       "      <td>14.669454</td>\n",
       "      <td>14.669454</td>\n",
       "      <td>6.304198e+06</td>\n",
       "    </tr>\n",
       "    <tr>\n",
       "      <th>std</th>\n",
       "      <td>9.174679</td>\n",
       "      <td>9.343698</td>\n",
       "      <td>8.996697</td>\n",
       "      <td>9.167017</td>\n",
       "      <td>9.167017</td>\n",
       "      <td>5.664848e+06</td>\n",
       "    </tr>\n",
       "    <tr>\n",
       "      <th>min</th>\n",
       "      <td>1.160000</td>\n",
       "      <td>1.180000</td>\n",
       "      <td>1.130000</td>\n",
       "      <td>1.160000</td>\n",
       "      <td>1.160000</td>\n",
       "      <td>0.000000e+00</td>\n",
       "    </tr>\n",
       "    <tr>\n",
       "      <th>25%</th>\n",
       "      <td>7.655000</td>\n",
       "      <td>7.810000</td>\n",
       "      <td>7.445000</td>\n",
       "      <td>7.630000</td>\n",
       "      <td>7.630000</td>\n",
       "      <td>2.289800e+06</td>\n",
       "    </tr>\n",
       "    <tr>\n",
       "      <th>50%</th>\n",
       "      <td>12.660000</td>\n",
       "      <td>13.000000</td>\n",
       "      <td>12.180000</td>\n",
       "      <td>12.500000</td>\n",
       "      <td>12.500000</td>\n",
       "      <td>4.646600e+06</td>\n",
       "    </tr>\n",
       "    <tr>\n",
       "      <th>75%</th>\n",
       "      <td>20.435000</td>\n",
       "      <td>21.025001</td>\n",
       "      <td>19.900000</td>\n",
       "      <td>20.430000</td>\n",
       "      <td>20.430000</td>\n",
       "      <td>8.667650e+06</td>\n",
       "    </tr>\n",
       "    <tr>\n",
       "      <th>max</th>\n",
       "      <td>43.669998</td>\n",
       "      <td>44.619999</td>\n",
       "      <td>41.310001</td>\n",
       "      <td>43.790001</td>\n",
       "      <td>43.790001</td>\n",
       "      <td>6.724200e+07</td>\n",
       "    </tr>\n",
       "  </tbody>\n",
       "</table>\n",
       "</div>"
      ],
      "text/plain": [
       "              Open         High          Low        Close    Adj Close  \\\n",
       "count  2179.000000  2179.000000  2179.000000  2179.000000  2179.000000   \n",
       "mean     14.707141    15.071533    14.322386    14.669454    14.669454   \n",
       "std       9.174679     9.343698     8.996697     9.167017     9.167017   \n",
       "min       1.160000     1.180000     1.130000     1.160000     1.160000   \n",
       "25%       7.655000     7.810000     7.445000     7.630000     7.630000   \n",
       "50%      12.660000    13.000000    12.180000    12.500000    12.500000   \n",
       "75%      20.435000    21.025001    19.900000    20.430000    20.430000   \n",
       "max      43.669998    44.619999    41.310001    43.790001    43.790001   \n",
       "\n",
       "             Volume  \n",
       "count  2.179000e+03  \n",
       "mean   6.304198e+06  \n",
       "std    5.664848e+06  \n",
       "min    0.000000e+00  \n",
       "25%    2.289800e+06  \n",
       "50%    4.646600e+06  \n",
       "75%    8.667650e+06  \n",
       "max    6.724200e+07  "
      ]
     },
     "execution_count": 13,
     "metadata": {},
     "output_type": "execute_result"
    }
   ],
   "source": [
    "gol_df.describe()  #descrição detalhada"
   ]
  },
  {
   "cell_type": "code",
   "execution_count": 18,
   "id": "8cdf9193",
   "metadata": {
    "ExecuteTime": {
     "end_time": "2023-10-04T22:23:12.566099Z",
     "start_time": "2023-10-04T22:23:12.537831Z"
    }
   },
   "outputs": [
    {
     "data": {
      "text/html": [
       "<div>\n",
       "<style scoped>\n",
       "    .dataframe tbody tr th:only-of-type {\n",
       "        vertical-align: middle;\n",
       "    }\n",
       "\n",
       "    .dataframe tbody tr th {\n",
       "        vertical-align: top;\n",
       "    }\n",
       "\n",
       "    .dataframe thead th {\n",
       "        text-align: right;\n",
       "    }\n",
       "</style>\n",
       "<table border=\"1\" class=\"dataframe\">\n",
       "  <thead>\n",
       "    <tr style=\"text-align: right;\">\n",
       "      <th></th>\n",
       "      <th>Open</th>\n",
       "      <th>High</th>\n",
       "      <th>Low</th>\n",
       "      <th>Close</th>\n",
       "      <th>Adj Close</th>\n",
       "      <th>Volume</th>\n",
       "    </tr>\n",
       "    <tr>\n",
       "      <th>Date</th>\n",
       "      <th></th>\n",
       "      <th></th>\n",
       "      <th></th>\n",
       "      <th></th>\n",
       "      <th></th>\n",
       "      <th></th>\n",
       "    </tr>\n",
       "  </thead>\n",
       "  <tbody>\n",
       "    <tr>\n",
       "      <th>2019-08-01</th>\n",
       "      <td>41.25</td>\n",
       "      <td>44.619999</td>\n",
       "      <td>41.25</td>\n",
       "      <td>43.790001</td>\n",
       "      <td>43.790001</td>\n",
       "      <td>6664200</td>\n",
       "    </tr>\n",
       "  </tbody>\n",
       "</table>\n",
       "</div>"
      ],
      "text/plain": [
       "             Open       High    Low      Close  Adj Close   Volume\n",
       "Date                                                              \n",
       "2019-08-01  41.25  44.619999  41.25  43.790001  43.790001  6664200"
      ]
     },
     "execution_count": 18,
     "metadata": {},
     "output_type": "execute_result"
    }
   ],
   "source": [
    "gol_df[gol_df['Close'] >= 43.79] #vizualisando qual foi o dia com o maior fechamento "
   ]
  },
  {
   "cell_type": "code",
   "execution_count": 21,
   "id": "86a8b6f1",
   "metadata": {
    "ExecuteTime": {
     "end_time": "2023-10-04T22:27:23.818652Z",
     "start_time": "2023-10-04T22:27:23.781511Z"
    }
   },
   "outputs": [
    {
     "data": {
      "text/html": [
       "<div>\n",
       "<style scoped>\n",
       "    .dataframe tbody tr th:only-of-type {\n",
       "        vertical-align: middle;\n",
       "    }\n",
       "\n",
       "    .dataframe tbody tr th {\n",
       "        vertical-align: top;\n",
       "    }\n",
       "\n",
       "    .dataframe thead th {\n",
       "        text-align: right;\n",
       "    }\n",
       "</style>\n",
       "<table border=\"1\" class=\"dataframe\">\n",
       "  <thead>\n",
       "    <tr style=\"text-align: right;\">\n",
       "      <th></th>\n",
       "      <th>Open</th>\n",
       "      <th>High</th>\n",
       "      <th>Low</th>\n",
       "      <th>Close</th>\n",
       "      <th>Adj Close</th>\n",
       "      <th>Volume</th>\n",
       "    </tr>\n",
       "    <tr>\n",
       "      <th>Date</th>\n",
       "      <th></th>\n",
       "      <th></th>\n",
       "      <th></th>\n",
       "      <th></th>\n",
       "      <th></th>\n",
       "      <th></th>\n",
       "    </tr>\n",
       "  </thead>\n",
       "  <tbody>\n",
       "    <tr>\n",
       "      <th>2016-01-22</th>\n",
       "      <td>1.2</td>\n",
       "      <td>1.26</td>\n",
       "      <td>1.14</td>\n",
       "      <td>1.16</td>\n",
       "      <td>1.16</td>\n",
       "      <td>3830600</td>\n",
       "    </tr>\n",
       "  </tbody>\n",
       "</table>\n",
       "</div>"
      ],
      "text/plain": [
       "            Open  High   Low  Close  Adj Close   Volume\n",
       "Date                                                   \n",
       "2016-01-22   1.2  1.26  1.14   1.16       1.16  3830600"
      ]
     },
     "execution_count": 21,
     "metadata": {},
     "output_type": "execute_result"
    }
   ],
   "source": [
    "gol_df[(gol_df['Close'] >= 1.15) & (gol_df['Close'] <= 1.16)]  #vizualisando qual foi o dia com o menor fechamento "
   ]
  },
  {
   "cell_type": "code",
   "execution_count": 22,
   "id": "1754f45f",
   "metadata": {
    "ExecuteTime": {
     "end_time": "2023-10-04T22:34:45.120180Z",
     "start_time": "2023-10-04T22:34:45.019281Z"
    }
   },
   "outputs": [],
   "source": [
    "gol_df.to_csv('gol.csv') #transformando os dados em um csv para evitar falhas"
   ]
  },
  {
   "cell_type": "code",
   "execution_count": 23,
   "id": "43a37357",
   "metadata": {
    "ExecuteTime": {
     "end_time": "2023-10-04T22:35:11.124213Z",
     "start_time": "2023-10-04T22:35:11.057523Z"
    }
   },
   "outputs": [
    {
     "data": {
      "text/html": [
       "<div>\n",
       "<style scoped>\n",
       "    .dataframe tbody tr th:only-of-type {\n",
       "        vertical-align: middle;\n",
       "    }\n",
       "\n",
       "    .dataframe tbody tr th {\n",
       "        vertical-align: top;\n",
       "    }\n",
       "\n",
       "    .dataframe thead th {\n",
       "        text-align: right;\n",
       "    }\n",
       "</style>\n",
       "<table border=\"1\" class=\"dataframe\">\n",
       "  <thead>\n",
       "    <tr style=\"text-align: right;\">\n",
       "      <th></th>\n",
       "      <th>Date</th>\n",
       "      <th>Open</th>\n",
       "      <th>High</th>\n",
       "      <th>Low</th>\n",
       "      <th>Close</th>\n",
       "      <th>Adj Close</th>\n",
       "      <th>Volume</th>\n",
       "    </tr>\n",
       "  </thead>\n",
       "  <tbody>\n",
       "    <tr>\n",
       "      <th>0</th>\n",
       "      <td>2015-01-02</td>\n",
       "      <td>14.97</td>\n",
       "      <td>15.20</td>\n",
       "      <td>14.61</td>\n",
       "      <td>14.99</td>\n",
       "      <td>14.99</td>\n",
       "      <td>901900</td>\n",
       "    </tr>\n",
       "    <tr>\n",
       "      <th>1</th>\n",
       "      <td>2015-01-05</td>\n",
       "      <td>14.90</td>\n",
       "      <td>15.01</td>\n",
       "      <td>14.41</td>\n",
       "      <td>14.85</td>\n",
       "      <td>14.85</td>\n",
       "      <td>1272500</td>\n",
       "    </tr>\n",
       "    <tr>\n",
       "      <th>2</th>\n",
       "      <td>2015-01-06</td>\n",
       "      <td>14.75</td>\n",
       "      <td>15.21</td>\n",
       "      <td>14.65</td>\n",
       "      <td>15.21</td>\n",
       "      <td>15.21</td>\n",
       "      <td>2183500</td>\n",
       "    </tr>\n",
       "    <tr>\n",
       "      <th>3</th>\n",
       "      <td>2015-01-07</td>\n",
       "      <td>15.15</td>\n",
       "      <td>15.33</td>\n",
       "      <td>14.55</td>\n",
       "      <td>14.55</td>\n",
       "      <td>14.55</td>\n",
       "      <td>1846900</td>\n",
       "    </tr>\n",
       "    <tr>\n",
       "      <th>4</th>\n",
       "      <td>2015-01-08</td>\n",
       "      <td>14.41</td>\n",
       "      <td>14.65</td>\n",
       "      <td>14.20</td>\n",
       "      <td>14.27</td>\n",
       "      <td>14.27</td>\n",
       "      <td>1569500</td>\n",
       "    </tr>\n",
       "    <tr>\n",
       "      <th>...</th>\n",
       "      <td>...</td>\n",
       "      <td>...</td>\n",
       "      <td>...</td>\n",
       "      <td>...</td>\n",
       "      <td>...</td>\n",
       "      <td>...</td>\n",
       "      <td>...</td>\n",
       "    </tr>\n",
       "    <tr>\n",
       "      <th>2174</th>\n",
       "      <td>2023-09-28</td>\n",
       "      <td>6.52</td>\n",
       "      <td>6.56</td>\n",
       "      <td>6.36</td>\n",
       "      <td>6.55</td>\n",
       "      <td>6.55</td>\n",
       "      <td>7850700</td>\n",
       "    </tr>\n",
       "    <tr>\n",
       "      <th>2175</th>\n",
       "      <td>2023-09-29</td>\n",
       "      <td>6.64</td>\n",
       "      <td>6.73</td>\n",
       "      <td>6.51</td>\n",
       "      <td>6.61</td>\n",
       "      <td>6.61</td>\n",
       "      <td>7403400</td>\n",
       "    </tr>\n",
       "    <tr>\n",
       "      <th>2176</th>\n",
       "      <td>2023-10-02</td>\n",
       "      <td>6.64</td>\n",
       "      <td>6.65</td>\n",
       "      <td>6.32</td>\n",
       "      <td>6.35</td>\n",
       "      <td>6.35</td>\n",
       "      <td>6535100</td>\n",
       "    </tr>\n",
       "    <tr>\n",
       "      <th>2177</th>\n",
       "      <td>2023-10-03</td>\n",
       "      <td>6.29</td>\n",
       "      <td>6.39</td>\n",
       "      <td>5.98</td>\n",
       "      <td>6.02</td>\n",
       "      <td>6.02</td>\n",
       "      <td>10599400</td>\n",
       "    </tr>\n",
       "    <tr>\n",
       "      <th>2178</th>\n",
       "      <td>2023-10-04</td>\n",
       "      <td>6.11</td>\n",
       "      <td>6.39</td>\n",
       "      <td>6.10</td>\n",
       "      <td>6.24</td>\n",
       "      <td>6.24</td>\n",
       "      <td>10773400</td>\n",
       "    </tr>\n",
       "  </tbody>\n",
       "</table>\n",
       "<p>2179 rows × 7 columns</p>\n",
       "</div>"
      ],
      "text/plain": [
       "            Date   Open   High    Low  Close  Adj Close    Volume\n",
       "0     2015-01-02  14.97  15.20  14.61  14.99      14.99    901900\n",
       "1     2015-01-05  14.90  15.01  14.41  14.85      14.85   1272500\n",
       "2     2015-01-06  14.75  15.21  14.65  15.21      15.21   2183500\n",
       "3     2015-01-07  15.15  15.33  14.55  14.55      14.55   1846900\n",
       "4     2015-01-08  14.41  14.65  14.20  14.27      14.27   1569500\n",
       "...          ...    ...    ...    ...    ...        ...       ...\n",
       "2174  2023-09-28   6.52   6.56   6.36   6.55       6.55   7850700\n",
       "2175  2023-09-29   6.64   6.73   6.51   6.61       6.61   7403400\n",
       "2176  2023-10-02   6.64   6.65   6.32   6.35       6.35   6535100\n",
       "2177  2023-10-03   6.29   6.39   5.98   6.02       6.02  10599400\n",
       "2178  2023-10-04   6.11   6.39   6.10   6.24       6.24  10773400\n",
       "\n",
       "[2179 rows x 7 columns]"
      ]
     },
     "execution_count": 23,
     "metadata": {},
     "output_type": "execute_result"
    }
   ],
   "source": [
    "gol_df2 = pd.read_csv('gol.csv') #abrindo pelo csv\n",
    "gol_df2"
   ]
  },
  {
   "cell_type": "markdown",
   "id": "02c2bb72",
   "metadata": {},
   "source": [
    "## Base de dados com mais ações"
   ]
  },
  {
   "cell_type": "code",
   "execution_count": 24,
   "id": "3c0f5f56",
   "metadata": {
    "ExecuteTime": {
     "end_time": "2023-10-04T22:37:52.051909Z",
     "start_time": "2023-10-04T22:37:52.037087Z"
    }
   },
   "outputs": [],
   "source": [
    "acoes = ['GOLL4.SA', 'CVCB3.SA', 'WEGE3.SA', 'MGLU3.SA', 'TOTS3.SA', 'BOVA11.SA']"
   ]
  },
  {
   "cell_type": "code",
   "execution_count": null,
   "id": "e2f2fae1",
   "metadata": {},
   "outputs": [],
   "source": []
  },
  {
   "cell_type": "code",
   "execution_count": null,
   "id": "b1f18078",
   "metadata": {},
   "outputs": [],
   "source": []
  }
 ],
 "metadata": {
  "kernelspec": {
   "display_name": "Python 3 (ipykernel)",
   "language": "python",
   "name": "python3"
  },
  "language_info": {
   "codemirror_mode": {
    "name": "ipython",
    "version": 3
   },
   "file_extension": ".py",
   "mimetype": "text/x-python",
   "name": "python",
   "nbconvert_exporter": "python",
   "pygments_lexer": "ipython3",
   "version": "3.9.7"
  },
  "toc": {
   "base_numbering": 1,
   "nav_menu": {},
   "number_sections": true,
   "sideBar": true,
   "skip_h1_title": false,
   "title_cell": "Table of Contents",
   "title_sidebar": "Contents",
   "toc_cell": false,
   "toc_position": {},
   "toc_section_display": true,
   "toc_window_display": false
  }
 },
 "nbformat": 4,
 "nbformat_minor": 5
}
